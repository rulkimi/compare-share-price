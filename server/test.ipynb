{
 "cells": [
  {
   "cell_type": "code",
   "execution_count": 2,
   "metadata": {},
   "outputs": [
    {
     "name": "stdout",
     "output_type": "stream",
     "text": [
      "Collecting yfinance\n",
      "  Downloading yfinance-0.2.41-py2.py3-none-any.whl.metadata (11 kB)\n",
      "Requirement already satisfied: pandas>=1.3.0 in c:\\users\\user\\appdata\\local\\programs\\python\\python312\\lib\\site-packages (from yfinance) (2.2.1)\n",
      "Requirement already satisfied: numpy>=1.16.5 in c:\\users\\user\\appdata\\local\\programs\\python\\python312\\lib\\site-packages (from yfinance) (1.26.4)\n",
      "Requirement already satisfied: requests>=2.31 in c:\\users\\user\\appdata\\local\\programs\\python\\python312\\lib\\site-packages (from yfinance) (2.31.0)\n",
      "Collecting multitasking>=0.0.7 (from yfinance)\n",
      "  Downloading multitasking-0.0.11-py3-none-any.whl.metadata (5.5 kB)\n",
      "Requirement already satisfied: lxml>=4.9.1 in c:\\users\\user\\appdata\\local\\programs\\python\\python312\\lib\\site-packages (from yfinance) (5.1.0)\n",
      "Requirement already satisfied: platformdirs>=2.0.0 in c:\\users\\user\\appdata\\local\\programs\\python\\python312\\lib\\site-packages (from yfinance) (4.2.0)\n",
      "Requirement already satisfied: pytz>=2022.5 in c:\\users\\user\\appdata\\local\\programs\\python\\python312\\lib\\site-packages (from yfinance) (2024.1)\n",
      "Collecting frozendict>=2.3.4 (from yfinance)\n",
      "  Downloading frozendict-2.4.4-py312-none-any.whl.metadata (23 kB)\n",
      "Collecting peewee>=3.16.2 (from yfinance)\n",
      "  Downloading peewee-3.17.6.tar.gz (3.0 MB)\n",
      "     ---------------------------------------- 0.0/3.0 MB ? eta -:--:--\n",
      "      --------------------------------------- 0.1/3.0 MB 1.3 MB/s eta 0:00:03\n",
      "     -- ------------------------------------- 0.2/3.0 MB 2.0 MB/s eta 0:00:02\n",
      "     ---- ----------------------------------- 0.3/3.0 MB 2.4 MB/s eta 0:00:02\n",
      "     ------ --------------------------------- 0.5/3.0 MB 2.5 MB/s eta 0:00:02\n",
      "     -------- ------------------------------- 0.6/3.0 MB 2.9 MB/s eta 0:00:01\n",
      "     ----------- ---------------------------- 0.8/3.0 MB 3.1 MB/s eta 0:00:01\n",
      "     ------------- -------------------------- 1.0/3.0 MB 3.2 MB/s eta 0:00:01\n",
      "     --------------- ------------------------ 1.1/3.0 MB 3.1 MB/s eta 0:00:01\n",
      "     ------------------ --------------------- 1.4/3.0 MB 3.4 MB/s eta 0:00:01\n",
      "     --------------------- ------------------ 1.6/3.0 MB 3.4 MB/s eta 0:00:01\n",
      "     ----------------------- ---------------- 1.8/3.0 MB 3.5 MB/s eta 0:00:01\n",
      "     --------------------------- ------------ 2.0/3.0 MB 3.7 MB/s eta 0:00:01\n",
      "     ------------------------------ --------- 2.2/3.0 MB 3.7 MB/s eta 0:00:01\n",
      "     -------------------------------- ------- 2.4/3.0 MB 3.7 MB/s eta 0:00:01\n",
      "     ---------------------------------- ----- 2.5/3.0 MB 3.7 MB/s eta 0:00:01\n",
      "     -------------------------------------- - 2.8/3.0 MB 3.8 MB/s eta 0:00:01\n",
      "     ---------------------------------------- 3.0/3.0 MB 3.8 MB/s eta 0:00:00\n",
      "  Installing build dependencies: started\n",
      "  Installing build dependencies: finished with status 'done'\n",
      "  Getting requirements to build wheel: started\n",
      "  Getting requirements to build wheel: finished with status 'done'\n",
      "  Preparing metadata (pyproject.toml): started\n",
      "  Preparing metadata (pyproject.toml): finished with status 'done'\n",
      "Requirement already satisfied: beautifulsoup4>=4.11.1 in c:\\users\\user\\appdata\\local\\programs\\python\\python312\\lib\\site-packages (from yfinance) (4.12.3)\n",
      "Collecting html5lib>=1.1 (from yfinance)\n",
      "  Downloading html5lib-1.1-py2.py3-none-any.whl.metadata (16 kB)\n",
      "Requirement already satisfied: soupsieve>1.2 in c:\\users\\user\\appdata\\local\\programs\\python\\python312\\lib\\site-packages (from beautifulsoup4>=4.11.1->yfinance) (2.5)\n",
      "Requirement already satisfied: six>=1.9 in c:\\users\\user\\appdata\\local\\programs\\python\\python312\\lib\\site-packages (from html5lib>=1.1->yfinance) (1.16.0)\n",
      "Requirement already satisfied: webencodings in c:\\users\\user\\appdata\\local\\programs\\python\\python312\\lib\\site-packages (from html5lib>=1.1->yfinance) (0.5.1)\n",
      "Requirement already satisfied: python-dateutil>=2.8.2 in c:\\users\\user\\appdata\\local\\programs\\python\\python312\\lib\\site-packages (from pandas>=1.3.0->yfinance) (2.9.0.post0)\n",
      "Requirement already satisfied: tzdata>=2022.7 in c:\\users\\user\\appdata\\local\\programs\\python\\python312\\lib\\site-packages (from pandas>=1.3.0->yfinance) (2024.1)\n",
      "Requirement already satisfied: charset-normalizer<4,>=2 in c:\\users\\user\\appdata\\local\\programs\\python\\python312\\lib\\site-packages (from requests>=2.31->yfinance) (3.3.2)\n",
      "Requirement already satisfied: idna<4,>=2.5 in c:\\users\\user\\appdata\\local\\programs\\python\\python312\\lib\\site-packages (from requests>=2.31->yfinance) (3.6)\n",
      "Requirement already satisfied: urllib3<3,>=1.21.1 in c:\\users\\user\\appdata\\local\\programs\\python\\python312\\lib\\site-packages (from requests>=2.31->yfinance) (1.26.18)\n",
      "Requirement already satisfied: certifi>=2017.4.17 in c:\\users\\user\\appdata\\local\\programs\\python\\python312\\lib\\site-packages (from requests>=2.31->yfinance) (2024.2.2)\n",
      "Downloading yfinance-0.2.41-py2.py3-none-any.whl (73 kB)\n",
      "   ---------------------------------------- 0.0/73.5 kB ? eta -:--:--\n",
      "   ---------------------------------------- 73.5/73.5 kB 4.2 MB/s eta 0:00:00\n",
      "Downloading frozendict-2.4.4-py312-none-any.whl (16 kB)\n",
      "Downloading html5lib-1.1-py2.py3-none-any.whl (112 kB)\n",
      "   ---------------------------------------- 0.0/112.2 kB ? eta -:--:--\n",
      "   ---------------------------------------- 112.2/112.2 kB 6.4 MB/s eta 0:00:00\n",
      "Downloading multitasking-0.0.11-py3-none-any.whl (8.5 kB)\n",
      "Building wheels for collected packages: peewee\n",
      "  Building wheel for peewee (pyproject.toml): started\n",
      "  Building wheel for peewee (pyproject.toml): finished with status 'done'\n",
      "  Created wheel for peewee: filename=peewee-3.17.6-py3-none-any.whl size=138938 sha256=bd4c952a6ca3bf45d0f967225662bbd087168ce53d7a5036cdd28ac982324d79\n",
      "  Stored in directory: c:\\users\\user\\appdata\\local\\pip\\cache\\wheels\\a6\\5e\\0f\\8319805c4115320e0d3e8fb5799b114a2e4c4a3d6c7e523b06\n",
      "Successfully built peewee\n",
      "Installing collected packages: peewee, multitasking, html5lib, frozendict, yfinance\n",
      "Successfully installed frozendict-2.4.4 html5lib-1.1 multitasking-0.0.11 peewee-3.17.6 yfinance-0.2.41\n",
      "Note: you may need to restart the kernel to use updated packages.\n"
     ]
    },
    {
     "name": "stderr",
     "output_type": "stream",
     "text": [
      "\n",
      "[notice] A new release of pip is available: 24.0 -> 24.2\n",
      "[notice] To update, run: python.exe -m pip install --upgrade pip\n"
     ]
    }
   ],
   "source": [
    "pip install yfinance"
   ]
  },
  {
   "cell_type": "code",
   "execution_count": 2,
   "metadata": {},
   "outputs": [],
   "source": [
    "import yfinance as yf"
   ]
  },
  {
   "cell_type": "code",
   "execution_count": 8,
   "metadata": {},
   "outputs": [
    {
     "name": "stderr",
     "output_type": "stream",
     "text": [
      "[*********************100%%**********************]  1 of 1 completed"
     ]
    },
    {
     "name": "stdout",
     "output_type": "stream",
     "text": [
      "             Open   High    Low  Close  Adj Close    Volume\n",
      "Date                                                       \n",
      "2024-08-01  10.24  10.26  10.22  10.26      10.26   9399700\n",
      "2024-08-02  10.24  10.24  10.18  10.24      10.24  14920300\n"
     ]
    },
    {
     "name": "stderr",
     "output_type": "stream",
     "text": [
      "\n"
     ]
    }
   ],
   "source": [
    "data = yf.download(\"1155.KL\", start=\"2024-08-01\", end=\"2024-08-03\")\n",
    "print(data.head())"
   ]
  },
  {
   "cell_type": "code",
   "execution_count": 6,
   "metadata": {},
   "outputs": [
    {
     "name": "stdout",
     "output_type": "stream",
     "text": [
      "Date\n",
      "2000-03-23 00:00:00+08:00    0.023949\n",
      "2000-10-27 00:00:00+08:00    0.062266\n",
      "2001-03-13 00:00:00+08:00    0.023949\n",
      "2001-09-26 00:00:00+08:00    0.033528\n",
      "2002-02-28 00:00:00+08:00    0.035923\n",
      "2002-10-09 00:00:00+08:00    0.050292\n",
      "2003-04-14 00:00:00+08:00    0.251460\n",
      "2003-10-15 00:00:00+08:00    0.122138\n",
      "2004-03-11 00:00:00+08:00    0.179615\n",
      "2004-10-12 00:00:00+08:00    0.179615\n",
      "2005-03-16 00:00:00+08:00    0.125730\n",
      "2005-11-07 00:00:00+08:00    0.251460\n",
      "2005-12-23 00:00:00+08:00    0.359229\n",
      "2006-10-30 00:00:00+08:00    0.251460\n",
      "2007-04-10 00:00:00+08:00    0.287383\n",
      "2007-10-30 00:00:00+08:00    0.287383\n",
      "2007-12-31 00:00:00+08:00    0.125730\n",
      "2008-03-24 00:00:00+08:00    0.134711\n",
      "2008-10-07 00:00:00+08:00    0.179615\n",
      "2009-10-13 00:00:00+08:00    0.080000\n",
      "2010-03-02 00:00:00+08:00    0.110000\n",
      "2010-11-18 00:00:00+08:00    0.440000\n",
      "2011-04-12 00:00:00+08:00    0.280000\n",
      "2011-11-25 00:00:00+08:00    0.320000\n",
      "2012-04-27 00:00:00+08:00    0.040000\n",
      "2012-09-20 00:00:00+08:00    0.040000\n",
      "2013-04-25 00:00:00+08:00    0.370000\n",
      "2013-09-24 00:00:00+08:00    0.065000\n",
      "2014-04-29 00:00:00+08:00    0.350000\n",
      "2014-09-25 00:00:00+08:00    0.240000\n",
      "2015-04-23 00:00:00+08:00    0.330000\n",
      "2015-10-08 00:00:00+08:00    0.240000\n",
      "2016-05-04 00:00:00+08:00    0.300000\n",
      "2016-09-23 00:00:00+08:00    0.200000\n",
      "2017-05-04 00:00:00+08:00    0.220000\n",
      "2017-09-29 00:00:00+08:00    0.230000\n",
      "2018-06-05 00:00:00+08:00    0.320000\n",
      "2018-09-28 00:00:00+08:00    0.250000\n",
      "2019-05-06 00:00:00+08:00    0.320000\n",
      "2019-05-07 00:00:00+08:00    0.320000\n",
      "2019-09-18 00:00:00+08:00    0.250000\n",
      "2020-04-10 00:00:00+08:00    0.390000\n",
      "2020-12-17 00:00:00+08:00    0.135000\n",
      "2021-05-28 00:00:00+08:00    0.385000\n",
      "2021-09-22 00:00:00+08:00    0.280000\n",
      "2022-03-16 00:00:00+08:00    0.300000\n",
      "2022-09-19 00:00:00+08:00    0.280000\n",
      "2023-03-13 00:00:00+08:00    0.300000\n",
      "2023-09-14 00:00:00+08:00    0.290000\n",
      "2024-03-13 00:00:00+08:00    0.310000\n",
      "Name: Dividends, dtype: float64 Date\n",
      "2001-10-16 00:00:00+08:00    1.50\n",
      "2008-02-18 00:00:00+08:00    1.25\n",
      "Name: Stock Splits, dtype: float64\n"
     ]
    }
   ],
   "source": [
    "apple = yf.Ticker(\"1155.KL\")\n",
    "dividends = apple.dividends\n",
    "splits = apple.splits\n",
    "print(dividends, splits)"
   ]
  },
  {
   "cell_type": "code",
   "execution_count": 7,
   "metadata": {},
   "outputs": [
    {
     "name": "stdout",
     "output_type": "stream",
     "text": [
      "{'address1': 'One Apple Park Way', 'city': 'Cupertino', 'state': 'CA', 'zip': '95014', 'country': 'United States', 'phone': '408 996 1010', 'website': 'https://www.apple.com', 'industry': 'Consumer Electronics', 'industryKey': 'consumer-electronics', 'industryDisp': 'Consumer Electronics', 'sector': 'Technology', 'sectorKey': 'technology', 'sectorDisp': 'Technology', 'longBusinessSummary': 'Apple Inc. designs, manufactures, and markets smartphones, personal computers, tablets, wearables, and accessories worldwide. The company offers iPhone, a line of smartphones; Mac, a line of personal computers; iPad, a line of multi-purpose tablets; and wearables, home, and accessories comprising AirPods, Apple TV, Apple Watch, Beats products, and HomePod. It also provides AppleCare support and cloud services; and operates various platforms, including the App Store that allow customers to discover and download applications and digital content, such as books, music, video, games, and podcasts. In addition, the company offers various services, such as Apple Arcade, a game subscription service; Apple Fitness+, a personalized fitness service; Apple Music, which offers users a curated listening experience with on-demand radio stations; Apple News+, a subscription news and magazine service; Apple TV+, which offers exclusive original content; Apple Card, a co-branded credit card; and Apple Pay, a cashless payment service, as well as licenses its intellectual property. The company serves consumers, and small and mid-sized businesses; and the education, enterprise, and government markets. It distributes third-party applications for its products through the App Store. The company also sells its products through its retail and online stores, and direct sales force; and third-party cellular network carriers, wholesalers, retailers, and resellers. Apple Inc. was founded in 1976 and is headquartered in Cupertino, California.', 'fullTimeEmployees': 161000, 'companyOfficers': [{'maxAge': 1, 'name': 'Mr. Timothy D. Cook', 'age': 62, 'title': 'CEO & Director', 'yearBorn': 1961, 'fiscalYear': 2023, 'totalPay': 16239562, 'exercisedValue': 0, 'unexercisedValue': 0}, {'maxAge': 1, 'name': 'Mr. Luca  Maestri', 'age': 60, 'title': 'CFO & Senior VP', 'yearBorn': 1963, 'fiscalYear': 2023, 'totalPay': 4612242, 'exercisedValue': 0, 'unexercisedValue': 0}, {'maxAge': 1, 'name': 'Mr. Jeffrey E. Williams', 'age': 59, 'title': 'Chief Operating Officer', 'yearBorn': 1964, 'fiscalYear': 2023, 'totalPay': 4637585, 'exercisedValue': 0, 'unexercisedValue': 0}, {'maxAge': 1, 'name': 'Ms. Katherine L. Adams', 'age': 59, 'title': 'Senior VP, General Counsel & Secretary', 'yearBorn': 1964, 'fiscalYear': 2023, 'totalPay': 4618064, 'exercisedValue': 0, 'unexercisedValue': 0}, {'maxAge': 1, 'name': \"Ms. Deirdre  O'Brien\", 'age': 56, 'title': 'Senior Vice President of Retail', 'yearBorn': 1967, 'fiscalYear': 2023, 'totalPay': 4613369, 'exercisedValue': 0, 'unexercisedValue': 0}, {'maxAge': 1, 'name': 'Mr. Chris  Kondo', 'title': 'Senior Director of Corporate Accounting', 'fiscalYear': 2023, 'exercisedValue': 0, 'unexercisedValue': 0}, {'maxAge': 1, 'name': 'Mr. James  Wilson', 'title': 'Chief Technology Officer', 'fiscalYear': 2023, 'exercisedValue': 0, 'unexercisedValue': 0}, {'maxAge': 1, 'name': 'Suhasini  Chandramouli', 'title': 'Director of Investor Relations', 'fiscalYear': 2023, 'exercisedValue': 0, 'unexercisedValue': 0}, {'maxAge': 1, 'name': 'Mr. Greg  Joswiak', 'title': 'Senior Vice President of Worldwide Marketing', 'fiscalYear': 2023, 'exercisedValue': 0, 'unexercisedValue': 0}, {'maxAge': 1, 'name': 'Mr. Adrian  Perica', 'age': 49, 'title': 'Head of Corporate Development', 'yearBorn': 1974, 'fiscalYear': 2023, 'exercisedValue': 0, 'unexercisedValue': 0}], 'auditRisk': 6, 'boardRisk': 1, 'compensationRisk': 2, 'shareHolderRightsRisk': 1, 'overallRisk': 1, 'governanceEpochDate': 1722470400, 'compensationAsOfEpochDate': 1703980800, 'irWebsite': 'http://investor.apple.com/', 'maxAge': 86400, 'priceHint': 2, 'previousClose': 218.36, 'open': 219.15, 'dayLow': 217.71, 'dayHigh': 225.6, 'regularMarketPreviousClose': 218.36, 'regularMarketOpen': 219.15, 'regularMarketDayLow': 217.71, 'regularMarketDayHigh': 225.6, 'dividendRate': 1.0, 'dividendYield': 0.0045, 'exDividendDate': 1723420800, 'payoutRatio': 0.1476, 'fiveYearAvgDividendYield': 0.68, 'trailingPE': 33.46423, 'forwardPE': 29.994543, 'volume': 98083537, 'regularMarketVolume': 98083537, 'averageVolume': 65593241, 'averageVolume10days': 53190520, 'averageDailyVolume10Day': 53190520, 'bid': 219.48, 'ask': 219.9, 'bidSize': 500, 'askSize': 100, 'marketCap': 3342773518336, 'fiftyTwoWeekLow': 164.08, 'fiftyTwoWeekHigh': 237.23, 'priceToSalesTrailing12Months': 8.668951, 'fiftyDayAverage': 212.5994, 'twoHundredDayAverage': 189.52155, 'trailingAnnualDividendRate': 0.24, 'trailingAnnualDividendYield': 0.0010991023, 'currency': 'USD', 'enterpriseValue': 3386268975104, 'profitMargins': 0.26441, 'floatShares': 15197751163, 'sharesOutstanding': 15204100096, 'sharesShort': 135383184, 'sharesShortPriorMonth': 153405579, 'sharesShortPreviousMonthDate': 1718323200, 'dateShortInterest': 1721001600, 'sharesPercentSharesOut': 0.0088, 'heldPercentInsiders': 0.05219, 'heldPercentInstitutions': 0.57667, 'shortRatio': 1.83, 'shortPercentOfFloat': 0.0088, 'impliedSharesOutstanding': 15410899968, 'bookValue': 4.382, 'priceToBook': 50.17344, 'lastFiscalYearEnd': 1696032000, 'nextFiscalYearEnd': 1727654400, 'mostRecentQuarter': 1719619200, 'earningsQuarterlyGrowth': 0.079, 'netIncomeToCommon': 101956001792, 'trailingEps': 6.57, 'forwardEps': 7.33, 'pegRatio': 2.97, 'lastSplitFactor': '4:1', 'lastSplitDate': 1598832000, 'enterpriseToRevenue': 8.782, 'enterpriseToEbitda': 25.696, '52WeekChange': 0.22929835, 'SandP52WeekChange': 0.1832757, 'lastDividendValue': 0.25, 'lastDividendDate': 1715299200, 'exchange': 'NMS', 'quoteType': 'EQUITY', 'symbol': 'AAPL', 'underlyingSymbol': 'AAPL', 'shortName': 'Apple Inc.', 'longName': 'Apple Inc.', 'firstTradeDateEpochUtc': 345479400, 'timeZoneFullName': 'America/New_York', 'timeZoneShortName': 'EDT', 'uuid': '8b10e4ae-9eeb-3684-921a-9ab27e4d87aa', 'messageBoardId': 'finmb_24937', 'gmtOffSetMilliseconds': -14400000, 'currentPrice': 219.86, 'targetHighPrice': 300.0, 'targetLowPrice': 170.0, 'targetMeanPrice': 226.86, 'targetMedianPrice': 225.0, 'recommendationMean': 2.0, 'recommendationKey': 'buy', 'numberOfAnalystOpinions': 37, 'totalCash': 61801000960, 'totalCashPerShare': 4.06, 'ebitda': 131781001216, 'totalDebt': 101304000512, 'quickRatio': 0.798, 'currentRatio': 0.953, 'totalRevenue': 385603010560, 'debtToEquity': 151.862, 'revenuePerShare': 24.957, 'returnOnAssets': 0.22612, 'returnOnEquity': 1.60583, 'freeCashflow': 85536129024, 'operatingCashflow': 113040998400, 'earningsGrowth': 0.111, 'revenueGrowth': 0.049, 'grossMargins': 0.45962003, 'ebitdaMargins': 0.34175, 'operatingMargins': 0.29556, 'financialCurrency': 'USD', 'trailingPegRatio': 2.3049}\n"
     ]
    }
   ],
   "source": [
    "apple = yf.Ticker(\"AAPL\")\n",
    "print(apple.info)  # General information about Apple Inc."
   ]
  },
  {
   "cell_type": "code",
   "execution_count": 8,
   "metadata": {},
   "outputs": [
    {
     "name": "stderr",
     "output_type": "stream",
     "text": [
      "[*********************100%%**********************]  1 of 1 completed"
     ]
    },
    {
     "name": "stdout",
     "output_type": "stream",
     "text": [
      "                  Open        High         Low       Close   Adj Close  \\\n",
      "Date                                                                     \n",
      "2024-07-29  216.960007  219.300003  215.750000  218.240005  218.240005   \n",
      "2024-07-30  219.190002  220.330002  216.119995  218.800003  218.800003   \n",
      "2024-07-31  221.440002  223.820007  220.630005  222.080002  222.080002   \n",
      "2024-08-01  224.369995  224.479996  217.020004  218.360001  218.360001   \n",
      "2024-08-02  219.149994  225.600006  217.710007  219.860001  219.860001   \n",
      "\n",
      "              Volume  \n",
      "Date                  \n",
      "2024-07-29  36311800  \n",
      "2024-07-30  41643800  \n",
      "2024-07-31  50036300  \n",
      "2024-08-01  62501000  \n",
      "2024-08-02  98480100  \n"
     ]
    },
    {
     "name": "stderr",
     "output_type": "stream",
     "text": [
      "\n"
     ]
    }
   ],
   "source": [
    "recent_data = yf.download(\"AAPL\", period=\"5d\")\n",
    "print(recent_data)"
   ]
  },
  {
   "cell_type": "code",
   "execution_count": 10,
   "metadata": {},
   "outputs": [
    {
     "name": "stderr",
     "output_type": "stream",
     "text": [
      "[*********************100%%**********************]  2 of 2 completed"
     ]
    },
    {
     "name": "stdout",
     "output_type": "stream",
     "text": [
      "Price        Adj Close                   Close                    High  \\\n",
      "Ticker            AAPL        MSFT        AAPL        MSFT        AAPL   \n",
      "Date                                                                     \n",
      "2024-07-30  218.800003  422.920013  218.800003  422.920013  220.330002   \n",
      "2024-07-31  222.080002  418.350006  222.080002  418.350006  223.820007   \n",
      "2024-08-01  218.360001  417.109985  218.360001  417.109985  224.479996   \n",
      "\n",
      "Price                          Low                    Open              \\\n",
      "Ticker            MSFT        AAPL        MSFT        AAPL        MSFT   \n",
      "Date                                                                     \n",
      "2024-07-30  429.049988  216.119995  417.359985  219.190002  427.720001   \n",
      "2024-07-31  421.779999  220.630005  412.209991  221.440002  420.500000   \n",
      "2024-08-01  427.459991  217.020004  413.089996  224.369995  420.790009   \n",
      "\n",
      "Price         Volume            \n",
      "Ticker          AAPL      MSFT  \n",
      "Date                            \n",
      "2024-07-30  41643800  32687600  \n",
      "2024-07-31  50036300  42891400  \n",
      "2024-08-01  62501000  30296400  \n"
     ]
    },
    {
     "name": "stderr",
     "output_type": "stream",
     "text": [
      "\n"
     ]
    }
   ],
   "source": [
    "multi_data = yf.download([\"AAPL\", \"MSFT\"], start=\"2024-07-30\", end=\"2024-08-02\")\n",
    "print(multi_data)"
   ]
  },
  {
   "cell_type": "code",
   "execution_count": 12,
   "metadata": {},
   "outputs": [
    {
     "name": "stderr",
     "output_type": "stream",
     "text": [
      "[*********************100%%**********************]  1 of 1 completed"
     ]
    },
    {
     "name": "stdout",
     "output_type": "stream",
     "text": [
      "Date\n",
      "2024-07-30    218.800003\n",
      "2024-07-31    222.080002\n",
      "2024-08-01    218.360001\n",
      "Name: Close, dtype: float64\n"
     ]
    },
    {
     "name": "stderr",
     "output_type": "stream",
     "text": [
      "\n"
     ]
    }
   ],
   "source": [
    "data = yf.download(\"AAPL\", start=\"2024-05-10\", end=\"2024-08-02\", auto_adjust=True)\n",
    "print(data['Close'])  # This will show the adjusted close prices"
   ]
  },
  {
   "cell_type": "code",
   "execution_count": 13,
   "metadata": {},
   "outputs": [],
   "source": [
    "import pandas as pd\n",
    "import matplotlib.pyplot as plt\n",
    "import seaborn as sns; sns.set()"
   ]
  },
  {
   "cell_type": "code",
   "execution_count": 14,
   "metadata": {},
   "outputs": [
    {
     "name": "stderr",
     "output_type": "stream",
     "text": [
      "[*********************100%%**********************]  1 of 1 completed\n"
     ]
    }
   ],
   "source": [
    "# Date must be in the fromat (\"%Y-%m-%d\") That is, year-month-day\n",
    "start_date = '2020-12-1' #1 December 2020\n",
    "end_date = '2023-2-2'    #2 February 2023\n",
    "# \"start_date\" must be an older date than the \"end_date\"\n",
    "\n",
    "amazon = yf.download(tickers = \"AMZN\",\n",
    "                  start = start_date,\n",
    "                  end = end_date)"
   ]
  },
  {
   "cell_type": "code",
   "execution_count": 15,
   "metadata": {},
   "outputs": [
    {
     "data": {
      "text/html": [
       "<div>\n",
       "<style scoped>\n",
       "    .dataframe tbody tr th:only-of-type {\n",
       "        vertical-align: middle;\n",
       "    }\n",
       "\n",
       "    .dataframe tbody tr th {\n",
       "        vertical-align: top;\n",
       "    }\n",
       "\n",
       "    .dataframe thead th {\n",
       "        text-align: right;\n",
       "    }\n",
       "</style>\n",
       "<table border=\"1\" class=\"dataframe\">\n",
       "  <thead>\n",
       "    <tr style=\"text-align: right;\">\n",
       "      <th></th>\n",
       "      <th>Open</th>\n",
       "      <th>High</th>\n",
       "      <th>Low</th>\n",
       "      <th>Close</th>\n",
       "      <th>Adj Close</th>\n",
       "      <th>Volume</th>\n",
       "    </tr>\n",
       "    <tr>\n",
       "      <th>Date</th>\n",
       "      <th></th>\n",
       "      <th></th>\n",
       "      <th></th>\n",
       "      <th></th>\n",
       "      <th></th>\n",
       "      <th></th>\n",
       "    </tr>\n",
       "  </thead>\n",
       "  <tbody>\n",
       "    <tr>\n",
       "      <th>2020-12-01</th>\n",
       "      <td>159.425003</td>\n",
       "      <td>162.447495</td>\n",
       "      <td>157.858994</td>\n",
       "      <td>161.003998</td>\n",
       "      <td>161.003998</td>\n",
       "      <td>90740000</td>\n",
       "    </tr>\n",
       "    <tr>\n",
       "      <th>2020-12-02</th>\n",
       "      <td>161.082504</td>\n",
       "      <td>161.600006</td>\n",
       "      <td>158.662994</td>\n",
       "      <td>160.176498</td>\n",
       "      <td>160.176498</td>\n",
       "      <td>62586000</td>\n",
       "    </tr>\n",
       "    <tr>\n",
       "      <th>2020-12-03</th>\n",
       "      <td>160.272995</td>\n",
       "      <td>161.432007</td>\n",
       "      <td>159.065506</td>\n",
       "      <td>159.336502</td>\n",
       "      <td>159.336502</td>\n",
       "      <td>57840000</td>\n",
       "    </tr>\n",
       "    <tr>\n",
       "      <th>2020-12-04</th>\n",
       "      <td>159.910507</td>\n",
       "      <td>159.910507</td>\n",
       "      <td>157.938004</td>\n",
       "      <td>158.128998</td>\n",
       "      <td>158.128998</td>\n",
       "      <td>58272000</td>\n",
       "    </tr>\n",
       "    <tr>\n",
       "      <th>2020-12-07</th>\n",
       "      <td>157.824005</td>\n",
       "      <td>159.037994</td>\n",
       "      <td>157.084503</td>\n",
       "      <td>157.899994</td>\n",
       "      <td>157.899994</td>\n",
       "      <td>55026000</td>\n",
       "    </tr>\n",
       "  </tbody>\n",
       "</table>\n",
       "</div>"
      ],
      "text/plain": [
       "                  Open        High         Low       Close   Adj Close  \\\n",
       "Date                                                                     \n",
       "2020-12-01  159.425003  162.447495  157.858994  161.003998  161.003998   \n",
       "2020-12-02  161.082504  161.600006  158.662994  160.176498  160.176498   \n",
       "2020-12-03  160.272995  161.432007  159.065506  159.336502  159.336502   \n",
       "2020-12-04  159.910507  159.910507  157.938004  158.128998  158.128998   \n",
       "2020-12-07  157.824005  159.037994  157.084503  157.899994  157.899994   \n",
       "\n",
       "              Volume  \n",
       "Date                  \n",
       "2020-12-01  90740000  \n",
       "2020-12-02  62586000  \n",
       "2020-12-03  57840000  \n",
       "2020-12-04  58272000  \n",
       "2020-12-07  55026000  "
      ]
     },
     "execution_count": 15,
     "metadata": {},
     "output_type": "execute_result"
    }
   ],
   "source": [
    "amazon.head()"
   ]
  },
  {
   "cell_type": "code",
   "execution_count": 16,
   "metadata": {},
   "outputs": [
    {
     "data": {
      "text/html": [
       "<div>\n",
       "<style scoped>\n",
       "    .dataframe tbody tr th:only-of-type {\n",
       "        vertical-align: middle;\n",
       "    }\n",
       "\n",
       "    .dataframe tbody tr th {\n",
       "        vertical-align: top;\n",
       "    }\n",
       "\n",
       "    .dataframe thead th {\n",
       "        text-align: right;\n",
       "    }\n",
       "</style>\n",
       "<table border=\"1\" class=\"dataframe\">\n",
       "  <thead>\n",
       "    <tr style=\"text-align: right;\">\n",
       "      <th></th>\n",
       "      <th>Date</th>\n",
       "      <th>Open</th>\n",
       "      <th>High</th>\n",
       "      <th>Low</th>\n",
       "      <th>Close</th>\n",
       "      <th>Adj Close</th>\n",
       "      <th>Volume</th>\n",
       "    </tr>\n",
       "  </thead>\n",
       "  <tbody>\n",
       "    <tr>\n",
       "      <th>0</th>\n",
       "      <td>2020-12-01</td>\n",
       "      <td>159.425003</td>\n",
       "      <td>162.447495</td>\n",
       "      <td>157.858994</td>\n",
       "      <td>161.003998</td>\n",
       "      <td>161.003998</td>\n",
       "      <td>90740000</td>\n",
       "    </tr>\n",
       "    <tr>\n",
       "      <th>1</th>\n",
       "      <td>2020-12-02</td>\n",
       "      <td>161.082504</td>\n",
       "      <td>161.600006</td>\n",
       "      <td>158.662994</td>\n",
       "      <td>160.176498</td>\n",
       "      <td>160.176498</td>\n",
       "      <td>62586000</td>\n",
       "    </tr>\n",
       "    <tr>\n",
       "      <th>2</th>\n",
       "      <td>2020-12-03</td>\n",
       "      <td>160.272995</td>\n",
       "      <td>161.432007</td>\n",
       "      <td>159.065506</td>\n",
       "      <td>159.336502</td>\n",
       "      <td>159.336502</td>\n",
       "      <td>57840000</td>\n",
       "    </tr>\n",
       "    <tr>\n",
       "      <th>3</th>\n",
       "      <td>2020-12-04</td>\n",
       "      <td>159.910507</td>\n",
       "      <td>159.910507</td>\n",
       "      <td>157.938004</td>\n",
       "      <td>158.128998</td>\n",
       "      <td>158.128998</td>\n",
       "      <td>58272000</td>\n",
       "    </tr>\n",
       "    <tr>\n",
       "      <th>4</th>\n",
       "      <td>2020-12-07</td>\n",
       "      <td>157.824005</td>\n",
       "      <td>159.037994</td>\n",
       "      <td>157.084503</td>\n",
       "      <td>157.899994</td>\n",
       "      <td>157.899994</td>\n",
       "      <td>55026000</td>\n",
       "    </tr>\n",
       "  </tbody>\n",
       "</table>\n",
       "</div>"
      ],
      "text/plain": [
       "        Date        Open        High         Low       Close   Adj Close  \\\n",
       "0 2020-12-01  159.425003  162.447495  157.858994  161.003998  161.003998   \n",
       "1 2020-12-02  161.082504  161.600006  158.662994  160.176498  160.176498   \n",
       "2 2020-12-03  160.272995  161.432007  159.065506  159.336502  159.336502   \n",
       "3 2020-12-04  159.910507  159.910507  157.938004  158.128998  158.128998   \n",
       "4 2020-12-07  157.824005  159.037994  157.084503  157.899994  157.899994   \n",
       "\n",
       "     Volume  \n",
       "0  90740000  \n",
       "1  62586000  \n",
       "2  57840000  \n",
       "3  58272000  \n",
       "4  55026000  "
      ]
     },
     "execution_count": 16,
     "metadata": {},
     "output_type": "execute_result"
    }
   ],
   "source": [
    "amazon.reset_index(inplace=True)\n",
    "amazon.head()"
   ]
  },
  {
   "cell_type": "code",
   "execution_count": 17,
   "metadata": {},
   "outputs": [
    {
     "data": {
      "text/plain": [
       "Text(0.5, 1.0, 'The Stock Price of Amazon')"
      ]
     },
     "execution_count": 17,
     "metadata": {},
     "output_type": "execute_result"
    },
    {
     "data": {
      "image/png": "[encoded data removed]",
      "text/plain": [
       "<Figure size 1400x500 with 1 Axes>"
      ]
     },
     "metadata": {},
     "output_type": "display_data"
    }
   ],
   "source": [
    "plt.figure(figsize=(14,5))\n",
    "sns.set_style(\"ticks\")\n",
    "sns.lineplot(data=amazon,x=\"Date\",y='Close',color='firebrick')\n",
    "sns.despine()\n",
    "plt.title(\"The Stock Price of Amazon\",size='x-large',color='blue')"
   ]
  },
  {
   "cell_type": "code",
   "execution_count": 18,
   "metadata": {},
   "outputs": [
    {
     "name": "stdout",
     "output_type": "stream",
     "text": [
      "Date\n",
      "1987-05-11 00:00:00-04:00    0.000536\n",
      "1987-08-10 00:00:00-04:00    0.000536\n",
      "1987-11-17 00:00:00-05:00    0.000714\n",
      "1988-02-12 00:00:00-05:00    0.000714\n",
      "1988-05-16 00:00:00-04:00    0.000714\n",
      "                               ...   \n",
      "2023-05-12 00:00:00-04:00    0.240000\n",
      "2023-08-11 00:00:00-04:00    0.240000\n",
      "2023-11-10 00:00:00-05:00    0.240000\n",
      "2024-02-09 00:00:00-05:00    0.240000\n",
      "2024-05-10 00:00:00-04:00    0.250000\n",
      "Name: Dividends, Length: 83, dtype: float64 Date\n",
      "1987-06-16 00:00:00-04:00    2.0\n",
      "2000-06-21 00:00:00-04:00    2.0\n",
      "2005-02-28 00:00:00-05:00    2.0\n",
      "2014-06-09 00:00:00-04:00    7.0\n",
      "2020-08-31 00:00:00-04:00    4.0\n",
      "Name: Stock Splits, dtype: float64\n"
     ]
    }
   ],
   "source": [
    "apple = yf.Ticker(\"AAPL\")\n",
    "dividends = apple.dividends\n",
    "splits = apple.splits\n",
    "print(dividends, splits)"
   ]
  },
  {
   "cell_type": "code",
   "execution_count": 19,
   "metadata": {},
   "outputs": [
    {
     "name": "stdout",
     "output_type": "stream",
     "text": [
      "Dividends:\n",
      "                           Dividends\n",
      "Date                                \n",
      "1987-05-11 00:00:00-04:00   0.000536\n",
      "1987-08-10 00:00:00-04:00   0.000536\n",
      "1987-11-17 00:00:00-05:00   0.000714\n",
      "1988-02-12 00:00:00-05:00   0.000714\n",
      "1988-05-16 00:00:00-04:00   0.000714\n",
      "...                              ...\n",
      "2023-05-12 00:00:00-04:00   0.240000\n",
      "2023-08-11 00:00:00-04:00   0.240000\n",
      "2023-11-10 00:00:00-05:00   0.240000\n",
      "2024-02-09 00:00:00-05:00   0.240000\n",
      "2024-05-10 00:00:00-04:00   0.250000\n",
      "\n",
      "[83 rows x 1 columns]\n",
      "\n",
      "Splits:\n",
      "                           Stock Splits\n",
      "Date                                   \n",
      "1987-06-16 00:00:00-04:00           2.0\n",
      "2000-06-21 00:00:00-04:00           2.0\n",
      "2005-02-28 00:00:00-05:00           2.0\n",
      "2014-06-09 00:00:00-04:00           7.0\n",
      "2020-08-31 00:00:00-04:00           4.0\n"
     ]
    }
   ],
   "source": [
    "# Convert the data into pandas DataFrames\n",
    "dividends_df = pd.DataFrame(dividends)\n",
    "splits_df = pd.DataFrame(splits)\n",
    "\n",
    "# Display the DataFrames\n",
    "print(\"Dividends:\")\n",
    "print(dividends_df)\n",
    "print(\"\\nSplits:\")\n",
    "print(splits_df)"
   ]
  },
  {
   "cell_type": "code",
   "execution_count": 20,
   "metadata": {},
   "outputs": [
    {
     "name": "stdout",
     "output_type": "stream",
     "text": [
      "                                 Open        High         Low       Close  \\\n",
      "Date                                                                        \n",
      "2024-08-02 00:00:00-04:00  219.149994  225.600006  217.710007  219.860001   \n",
      "\n",
      "                             Volume  Dividends  Stock Splits  \n",
      "Date                                                          \n",
      "2024-08-02 00:00:00-04:00  98480100        0.0           0.0  \n"
     ]
    }
   ],
   "source": [
    "apple = yf.Ticker(\"AAPL\")\n",
    "print(apple.history(period=\"1d\"))"
   ]
  },
  {
   "cell_type": "code",
   "execution_count": 21,
   "metadata": {},
   "outputs": [
    {
     "name": "stderr",
     "output_type": "stream",
     "text": [
      "[*********************100%%**********************]  1 of 1 completed\n"
     ]
    },
    {
     "data": {
      "image/png": "[encoded data removed]",
      "text/plain": [
       "<Figure size 640x480 with 1 Axes>"
      ]
     },
     "metadata": {},
     "output_type": "display_data"
    }
   ],
   "source": [
    "data = yf.download(\"AAPL\", start=\"2020-01-01\", end=\"2021-01-01\")\n",
    "data['Close'].plot()\n",
    "plt.title(\"Apple Stock Prices\")\n",
    "plt.show()"
   ]
  },
  {
   "cell_type": "code",
   "execution_count": null,
   "metadata": {},
   "outputs": [],
   "source": []
  }
 ],
 "metadata": {
  "kernelspec": {
   "display_name": "Python 3",
   "language": "python",
   "name": "python3"
  },
  "language_info": {
   "codemirror_mode": {
    "name": "ipython",
    "version": 3
   },
   "file_extension": ".py",
   "mimetype": "text/x-python",
   "name": "python",
   "nbconvert_exporter": "python",
   "pygments_lexer": "ipython3",
   "version": "3.12.2"
  }
 },
 "nbformat": 4,
 "nbformat_minor": 2
}
